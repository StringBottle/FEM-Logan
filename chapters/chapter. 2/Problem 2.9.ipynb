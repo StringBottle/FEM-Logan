{
 "cells": [
  {
   "cell_type": "markdown",
   "metadata": {},
   "source": [
    "Problem 2.9  For the spring assemblages shown in Figure P2-8 through P2-16, determine the nodal displacements, the forces in each element, and the reactions. Use the direct stiffness method for all problems."
   ]
  },
  {
   "cell_type": "markdown",
   "metadata": {},
   "source": [
    "$$\n",
    "\\left\\{\\begin{array}{l}\n",
    "F_{1 x} \\\\\n",
    "F_{2 x} \\\\\n",
    "F_{3 x} \\\\\n",
    "F_{4 x}\n",
    "\\end{array}\\right\\}\n",
    "=\\left[\\begin{array}{cccc}\n",
    "k & -k & 0 & 0 \\\\\n",
    "-k & 2 k & -k & 0 \\\\\n",
    "0 & -k & 2 k & -k \\\\\n",
    "0 & 0 & -k & k\n",
    "\\end{array}\\right]\\left\\{\\begin{array}{l}\n",
    "u_{1 x}  \\\\\n",
    "u_{2 x} \\\\\n",
    "u_{3 x} \\\\\n",
    "u_{4 x}\n",
    "\\end{array}\\right\\}\n",
    "$$"
   ]
  },
  {
   "cell_type": "markdown",
   "metadata": {},
   "source": [
    "Since $u_{1x}=0$, we get \n",
    "$$\n",
    "\\left\\{\\begin{array}{l}\n",
    "F_{2 x} \\\\\n",
    "F_{3 x} \\\\\n",
    "F_{4 x}\n",
    "\\end{array}\\right\\}=\\left[\\begin{array}{ccc}\n",
    "2 k & -k & 0 \\\\\n",
    "-k & 2 k & -2k \\\\\n",
    "0 & -k & k\n",
    "\\end{array}\\right]\\left\\{\\begin{array}{l}\n",
    "u_{2 x} \\\\\n",
    "u_{3 x} \\\\\n",
    "u_{4 x}\n",
    "\\end{array}\\right\\}\n",
    "$$"
   ]
  },
  {
   "cell_type": "code",
   "execution_count": 9,
   "metadata": {},
   "outputs": [
    {
     "name": "stdout",
     "output_type": "stream",
     "text": [
      "[[1. 1. 1.]\n",
      " [1. 2. 2.]\n",
      " [1. 2. 3.]]\n"
     ]
    }
   ],
   "source": [
    "# inverse matrix calculation using numpy\n",
    "\n",
    "import numpy as np \n",
    "\n",
    "stiff_mat = np.array([[2,-1, 0],\n",
    "              [-1,2,-1],\n",
    "              [0,-1,1]]) \n",
    "inv_stiff_mat = np.linalg.inv(x) \n",
    "print(y)"
   ]
  },
  {
   "cell_type": "markdown",
   "metadata": {},
   "source": [
    "$$\n",
    "\\left\\{\\begin{array}{l}\n",
    "u_{2 x} \\\\\n",
    "u_{3 x} \\\\\n",
    "u_{4 x}\n",
    "\\end{array}\\right\\}=\\left[\\begin{array}{ll}\n",
    "1 & 1 & 1 \\\\\n",
    "1 & 2 & 2 \\\\\n",
    "1 & 2 & 3\n",
    "\\end{array}\\right]\\left\\{\\begin{array}{l}\n",
    "F_{2 x} \\\\\n",
    "F_{3 x} \\\\\n",
    "F_{4 x}\n",
    "\\end{array}\\right\\}\n",
    "$$"
   ]
  },
  {
   "cell_type": "markdown",
   "metadata": {},
   "source": [
    "$$\n",
    "\\begin{equation}\n",
    "u_{2 x}=\\frac{1}{k}\\left(F_{2 x}+F_{3 x}+F_{4 x}\\right) \\\\\n",
    "u_{3 x}=\\frac{1}{k}\\left(F_{2 x}+2 F_{3 x}+2 F_{4 x}\\right) \\\\\n",
    "u_{4 x}=\\frac{1}{k}\\left(F_{2 x}+2 F_{3 x}+3 F_{4 x}\\right)\n",
    "\\end{equation}\n",
    "$$"
   ]
  },
  {
   "cell_type": "markdown",
   "metadata": {},
   "source": [
    "Sustituting the given conditions we get, \n",
    "\n",
    "$$\n",
    "u_{2 x}=75mm\\\\\n",
    "u_{3 x}=175mm\\\\\n",
    "u_{4 x}=275mm\n",
    "$$"
   ]
  },
  {
   "cell_type": "markdown",
   "metadata": {},
   "source": [
    "$$\n",
    "f_{1 x}^{(1)}=k u_{1 x}-k u_{2 x} =-15000N \\\\\n",
    "f_{2 x}^{(1)}=-k u_{1 x}+k u_{2 x} =15000N \\\\\n",
    "f_{2 x}^{(2)}=k u_{2 x}-k u_{3 x} = -20000N \\\\\n",
    "f_{3 x}^{(2)}=-k x_{2 x}+k u_{3 x} = 20000N \\\\\n",
    "f_{3 x}^{(3)}=k u_{3 x}-k u_{4 x} = -20000N \\\\\n",
    "f_{4 x}^{(3)}=-  k u_{3 x}+k u_{4 x} = 20000N \n",
    "$$"
   ]
  },
  {
   "cell_type": "markdown",
   "metadata": {},
   "source": [
    "$$\n",
    "F_{1x} = f_{1 x}^{(1)} = -15000N\n",
    "$$"
   ]
  },
  {
   "cell_type": "code",
   "execution_count": null,
   "metadata": {},
   "outputs": [],
   "source": []
  }
 ],
 "metadata": {
  "kernelspec": {
   "display_name": "Python 3",
   "language": "python",
   "name": "python3"
  },
  "language_info": {
   "codemirror_mode": {
    "name": "ipython",
    "version": 3
   },
   "file_extension": ".py",
   "mimetype": "text/x-python",
   "name": "python",
   "nbconvert_exporter": "python",
   "pygments_lexer": "ipython3",
   "version": "3.7.9"
  }
 },
 "nbformat": 4,
 "nbformat_minor": 4
}
