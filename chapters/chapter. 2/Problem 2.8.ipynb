{
 "cells": [
  {
   "cell_type": "markdown",
   "metadata": {},
   "source": [
    "Problem 2.8 For the spring assemblages shown in Figure P2-8 through P2-16, determine the nodal displacements, the forces in each element, and the reactions. Use the direct stiffness method for all problems."
   ]
  },
  {
   "cell_type": "markdown",
   "metadata": {},
   "source": [
    "$$\n",
    "\\left\\{\\begin{array}{l}\n",
    "f_{1 x}^{(1)} \\\\\n",
    "f_{2 x}^{(1)}\n",
    "\\end{array}\\right\\}=\\left[\\begin{array}{cc}\n",
    "k & -k \\\\\n",
    "-k & k\n",
    "\\end{array}\\right]\\left\\{\\begin{array}{l}\n",
    "u_{1x} \\\\\n",
    "u_{2x} \n",
    "\\end{array}\\right\\}\n",
    "$$"
   ]
  },
  {
   "cell_type": "markdown",
   "metadata": {},
   "source": [
    "$$\n",
    "\\left\\{\\begin{array}{l}\n",
    "f_{2 x}^{(2)}\\\\\n",
    "f_{3 x}^{(2)}\n",
    "\\end{array}\\right\\}\n",
    "=\\left[\\begin{array}{ll}\n",
    "k & -k \\\\\n",
    "-k & k\n",
    "\\end{array}\\right]\\left\\{\\begin{array}{l}\n",
    "u_{2 x} \\\\\n",
    "u_{3 x}\n",
    "\\end{array}\\right\\}\n",
    "$$"
   ]
  },
  {
   "cell_type": "markdown",
   "metadata": {},
   "source": [
    "$$\n",
    "\\left\\{\\begin{array}{l}\n",
    "F_{1 x} \\\\\n",
    "F_{2 x} \\\\\n",
    "F_{3 x}\n",
    "\\end{array}\\right\\}\n",
    "=\n",
    "\\left[\\begin{array}{ccc}\n",
    "k & -k & 0 \\\\\n",
    "-k & 2 k & -k \\\\\n",
    "0 & -k & k\n",
    "\\end{array}\\right]\\left\\{\\begin{array}{l}\n",
    "u_{x} \\\\\n",
    "u_{2 x} \\\\\n",
    "u_{3 x}\n",
    "\\end{array}\\right\\}\n",
    "$$\n"
   ]
  },
  {
   "cell_type": "markdown",
   "metadata": {},
   "source": [
    "Applying $u_{1x} = 0$, we get \n",
    "\n",
    "$$\n",
    "\\left\\{\\begin{array}{l}\n",
    "F_{2 x} \\\\\n",
    "F_{3 x}\n",
    "\\end{array}\\right\\}=\\left[\\begin{array}{cc}\n",
    "2 k & -k \\\\\n",
    "-k & k\n",
    "\\end{array}\\right]\\left\\{\\begin{array}{l}\n",
    "u_{2 x} \\\\\n",
    "u_{3 x}\n",
    "\\end{array}\\right\\}\n",
    "$$"
   ]
  },
  {
   "cell_type": "markdown",
   "metadata": {},
   "source": [
    "In a form of equations, \n",
    "\n",
    "$$\n",
    "F_{2 x}=2 k u_{2 x}-k u_{3 x} \\\\\n",
    "F_{3 x}=-k u_{2x}+k u_{3 x}\n",
    "$$\n",
    "\n",
    "$$\n",
    "u_{2 x}=\\frac{F_{2x} +F_{3x} }{k} \\\\\n",
    "u_{3 x}=\\frac{F_{2x} +2 F_{3x}}{k}\n",
    "$$\n",
    "\n",
    "Subsituting $F_{2x} = 0$ and $F_{3x} = 2.5kN$ and $k = 100kN/m$\n",
    "\n",
    "$$\n",
    "u_{2x} = 25mm\\\\\n",
    "u_{3x} = 50mm\n",
    "$$\n",
    "\n"
   ]
  },
  {
   "cell_type": "markdown",
   "metadata": {},
   "source": [
    "$$\n",
    "f_{1 x}^{(1)} = 100N/mm\\times25mm - 100N/mm\\times50mm \\\\\n",
    "f_{2 x}^{(1)} = -100N/mm\\times25mm + 100N/mm\\times50mm \\\\\n",
    "f_{2 x}^{(2)} = 100N/mm\\times25mm - 100N/mm\\times50mm \\\\\n",
    "f_{3 x}^{(2)} = -100N/mm\\times25mm + 100N/mm\\times50mm \\\\\n",
    "$$"
   ]
  },
  {
   "cell_type": "markdown",
   "metadata": {},
   "source": [
    "Thus we get ,\n",
    "\n",
    "$$\n",
    "f_{1 x}^{(1)} = - f_{2 x}^{(1)} = -2500N \\\\\n",
    "f_{2 x}^{(2)} = - f_{3 x}^{(2)} = -2500N\n",
    "$$"
   ]
  },
  {
   "cell_type": "code",
   "execution_count": null,
   "metadata": {},
   "outputs": [],
   "source": []
  }
 ],
 "metadata": {
  "kernelspec": {
   "display_name": "Python 3",
   "language": "python",
   "name": "python3"
  },
  "language_info": {
   "codemirror_mode": {
    "name": "ipython",
    "version": 3
   },
   "file_extension": ".py",
   "mimetype": "text/x-python",
   "name": "python",
   "nbconvert_exporter": "python",
   "pygments_lexer": "ipython3",
   "version": "3.7.9"
  }
 },
 "nbformat": 4,
 "nbformat_minor": 4
}
