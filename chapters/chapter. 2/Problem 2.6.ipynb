{
 "cells": [
  {
   "cell_type": "markdown",
   "metadata": {},
   "source": [
    "For the spring assemblage in Figure P2-5, apply a concentrated force of $10,000N$ at node 2 in the positive $x$ direction and determine the displacements at nodes 2 and 4. "
   ]
  },
  {
   "cell_type": "markdown",
   "metadata": {},
   "source": [
    "Let the concentrated force $P$ so that the global equation from 2.5 becomes \n",
    "\n",
    "$$\\begin{Bmatrix}\n",
    "F_{1}\\\\\n",
    "P\\\\\n",
    "F_{3}\\\\\n",
    "F_{4}\n",
    "\\end{Bmatrix}\n",
    "=  \\begin{bmatrix}\n",
    "k_{1} & -k_{1} & 0 & 0 \\\\ \n",
    "-k_{1} & k_{1}+K & 0 & -K \\\\\n",
    "0 & 0 & k_{5} & -k_{5} \\\\\n",
    "0 & -K & -k_{5} & k_{5}+ K \\\\\n",
    "\\end{bmatrix}\n",
    "\\begin{Bmatrix}\n",
    "u_{1}\\\\\n",
    "u_{2}\\\\\n",
    "u_{3}\\\\\n",
    "u_{4}\\\\\n",
    "\\end{Bmatrix}\n",
    "$$\n",
    "\n",
    "Since $u_{1} = u_{3} = 0$ the global equation can be re-written as \n",
    "$$\\begin{Bmatrix}\n",
    "P\\\\\n",
    "F_{4}\\\\\n",
    "\\end{Bmatrix}\n",
    "=  \\begin{bmatrix}\n",
    " k_{1}+K & -K \\\\\n",
    " -K &  k_{5}+ K \\\\\n",
    "\\end{bmatrix}\n",
    "\\begin{Bmatrix}\n",
    "u_{2}\\\\\n",
    "u_{4}\\\\\n",
    "\\end{Bmatrix}\n",
    "$$\n",
    "\n",
    "$$\\begin{Bmatrix}\n",
    "P\\\\\n",
    "F_{4}\\\\\n",
    "\\end{Bmatrix}\n",
    "=  \\begin{bmatrix}\n",
    "  2000 & -1800 \\\\\n",
    " -1800 &  2800 \\\\\n",
    "\\end{bmatrix}\n",
    "\\begin{Bmatrix}\n",
    "u_{2}\\\\\n",
    "u_{4}\\\\\n",
    "\\end{Bmatrix}\n",
    "$$\n",
    "\n",
    "Multiply inverse matrix of the stiffness matrix to the equation \n",
    "\n",
    "$$\n",
    "\\begin{Bmatrix}\n",
    "u_{2}\\\\\n",
    "u_{4}\\\\\n",
    "\\end{Bmatrix}\n",
    "= \n",
    "\\frac{1}{11800}\n",
    "\\begin{bmatrix}\n",
    "  14 & 9 \\\\\n",
    " 9 &  10 \\\\\n",
    "\\end{bmatrix}\n",
    "\\begin{Bmatrix}\n",
    "10000\\\\\n",
    "0\\\\\n",
    "\\end{Bmatrix}\n",
    "$$\n",
    "\n",
    "We get $u_{2} = 11.86mm$ and $u_{4} = 7.63mm$"
   ]
  },
  {
   "cell_type": "code",
   "execution_count": null,
   "metadata": {},
   "outputs": [],
   "source": []
  }
 ],
 "metadata": {
  "kernelspec": {
   "display_name": "Python 3",
   "language": "python",
   "name": "python3"
  },
  "language_info": {
   "codemirror_mode": {
    "name": "ipython",
    "version": 3
   },
   "file_extension": ".py",
   "mimetype": "text/x-python",
   "name": "python",
   "nbconvert_exporter": "python",
   "pygments_lexer": "ipython3",
   "version": "3.7.9"
  }
 },
 "nbformat": 4,
 "nbformat_minor": 4
}
