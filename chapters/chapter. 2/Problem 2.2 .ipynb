{
 "cells": [
  {
   "cell_type": "markdown",
   "metadata": {},
   "source": [
    "For the spring assemlage shown in Figure P2-2, determine the displacement at node 2 and the forces in each spring element. Also determine the force $F_{3}$. Given : Node 3 displaces an amount $\\delta = 20 mm$ in the positive $x$ direction because of the force $F_{3}$ and $k_{1} = k_{2}= 100N/mm$"
   ]
  },
  {
   "cell_type": "markdown",
   "metadata": {},
   "source": [
    "The local equations of the system are given by\n",
    "$$\n",
    "\\begin{Bmatrix}\n",
    "f_{1}^{(1)} \\\\\n",
    "f_{2}^{(1)} \\\\\n",
    "\\end{Bmatrix}\n",
    "= \n",
    "\\begin{bmatrix}\n",
    "k_{1} & - k_{1}  \\\\\n",
    "- k_{1} & k_{1} \\\\\n",
    "\\end{bmatrix}\n",
    "\\begin{Bmatrix}\n",
    "u_{1} \\\\\n",
    "u_{2} \\\\\n",
    "\\end{Bmatrix}\n",
    "$$\n",
    "\n",
    "$$\n",
    "\\begin{Bmatrix}\n",
    "f_{2}^{(2)} \\\\\n",
    "f_{3}^{(2)} \\\\\n",
    "\\end{Bmatrix}\n",
    "= \n",
    "\\begin{bmatrix}\n",
    "k_{2} & - k_{2}  \\\\\n",
    "- k_{2} & k_{2} \\\\\n",
    "\\end{bmatrix}\n",
    "\\begin{Bmatrix}\n",
    "u_{2} \\\\\n",
    "u_{3} \\\\\n",
    "\\end{Bmatrix}\n",
    "$$\n",
    "\n",
    "The global equation of the system is \n",
    "\n",
    "$$\n",
    "\\begin{Bmatrix}\n",
    "F_{1} \\\\\n",
    "F_{2} \\\\\n",
    "F_{3} \\\\\n",
    "\\end{Bmatrix}\n",
    "= \n",
    "\\begin{bmatrix}\n",
    "k_{1} & -k_{1} & 0 \\\\\n",
    "-k_{1} & k_{1} + k_{2} & - k_{2}   \\\\\n",
    "0 & - k_{2} & k_{2}  \\\\\n",
    "\\end{bmatrix}\n",
    "\\begin{Bmatrix}\n",
    "u_{1} \\\\\n",
    "u_{2} \\\\\n",
    "u_{3} \\\\\n",
    "\\end{Bmatrix}\n",
    "$$\n",
    "\n",
    "\n",
    "\n",
    "From the given condition $u_{1} = 0$ and $u_{3} =\\delta$\n",
    "From the given condition we get \n",
    "\n"
   ]
  },
  {
   "cell_type": "code",
   "execution_count": null,
   "metadata": {},
   "outputs": [],
   "source": []
  }
 ],
 "metadata": {
  "kernelspec": {
   "display_name": "Python 3",
   "language": "python",
   "name": "python3"
  },
  "language_info": {
   "codemirror_mode": {
    "name": "ipython",
    "version": 3
   },
   "file_extension": ".py",
   "mimetype": "text/x-python",
   "name": "python",
   "nbconvert_exporter": "python",
   "pygments_lexer": "ipython3",
   "version": "3.7.9"
  }
 },
 "nbformat": 4,
 "nbformat_minor": 4
}
