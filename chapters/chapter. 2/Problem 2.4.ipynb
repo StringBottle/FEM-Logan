{
 "cells": [
  {
   "cell_type": "markdown",
   "metadata": {},
   "source": [
    "Solve Problem 2.3 with $P=0$ (no force applied at node 3) and with node 5 given a fixed, known displacement of $\\delta$ as shown in Figure P2-4"
   ]
  },
  {
   "cell_type": "markdown",
   "metadata": {},
   "source": [
    "a. Obtain the global stiffness matrix by direct superposition"
   ]
  },
  {
   "cell_type": "markdown",
   "metadata": {},
   "source": [
    "$$\n",
    "\\left\\{\\begin{array}{l}\n",
    "f_{1 x}^{(1)} \\\\\n",
    "f_{2 x}^{(1)}\n",
    "\\end{array}\\right\\}=\\left[\\begin{array}{cc}\n",
    "k & -k \\\\\n",
    "-k & k\n",
    "\\end{array}\\right]\\left\\{\\begin{array}{l}\n",
    "u_{1} \\\\\n",
    "u_{2}\n",
    "\\end{array}\\right\\}\n",
    "$$"
   ]
  },
  {
   "cell_type": "markdown",
   "metadata": {},
   "source": [
    "$$\n",
    "\\left\\{\\begin{array}{l}\n",
    "f_{2 x}^{(2)} \\\\\n",
    "f_{3 x}^{(2)}\n",
    "\\end{array}\\right\\}=\\left[\\begin{array}{cc}\n",
    "k & -k \\\\\n",
    "-k & k\n",
    "\\end{array}\\right]\\left\\{\\begin{array}{l}\n",
    "u_{2} \\\\\n",
    "u_{3}\n",
    "\\end{array}\\right\\}\n",
    "$$"
   ]
  },
  {
   "cell_type": "markdown",
   "metadata": {},
   "source": [
    "$$\n",
    "\\left\\{\\begin{array}{l}\n",
    "f_{3 x}^{(3)} \\\\\n",
    "f_{4 x}^{(3)}\n",
    "\\end{array}\\right\\}=\\left[\\begin{array}{cc}\n",
    "k & -k \\\\\n",
    "-k & k\n",
    "\\end{array}\\right]\\left\\{\\begin{array}{l}\n",
    "u_{3} \\\\\n",
    "u_{4}\n",
    "\\end{array}\\right\\}\n",
    "$$"
   ]
  },
  {
   "cell_type": "markdown",
   "metadata": {},
   "source": [
    "$$\n",
    "\\left\\{\\begin{array}{l}\n",
    "f_{4 x}^{(4)} \\\\\n",
    "f_{5 x}^{(4)}\n",
    "\\end{array}\\right\\}=\\left[\\begin{array}{cc}\n",
    "k & -k \\\\\n",
    "-k & k\n",
    "\\end{array}\\right]\\left\\{\\begin{array}{l}\n",
    "u_{4} \\\\\n",
    "u_{5}\n",
    "\\end{array}\\right\\}\n",
    "$$"
   ]
  },
  {
   "cell_type": "markdown",
   "metadata": {},
   "source": [
    "By assembling the equations we get global matrix as \n",
    "\n",
    "$$\n",
    "\\left\\{\\begin{array}{I}\n",
    "F_{1 x} \\\\\n",
    "F_{2 x} \\\\\n",
    "F_{3 x} \\\\\n",
    "F_{4 x} \\\\\n",
    "F_{5 x}\n",
    "\\end{array}\\right\\}=\\left[\\begin{array}{cc}\n",
    "k & -k & 0 & 0 & 0 \\\\\n",
    "-k & 2 k & -k & 0 & 0 \\\\\n",
    "0 & -k & 2 k & -k & 0 \\\\\n",
    "0 & 0 & -k & 2 k & -k \\\\\n",
    "0 & 0 & 0 & -k & k\n",
    "\\end{array}\\right]\\left\\{\\begin{array}{l}\n",
    "u_{1} \\\\\n",
    "u_{2} \\\\\n",
    "u_{3} \\\\\n",
    "u_{4} \\\\\n",
    "u_{5}\n",
    "\\end{array}\\right\\}\n",
    "$$\n",
    "\n",
    "$$\n",
    "\\left\\{\\begin{array}{c}\n",
    "\\operatorname{six} \\\\\n",
    "0 \\\\\n",
    "0 \\\\\n",
    "0 \\\\\n",
    "F_{5 x}\n",
    "\\end{array} \\mid=\\left[\\begin{array}{ccccc}\n",
    "k & -k & 0 & 0 & 0 \\\\\n",
    "-k & 2 k & -k & 0 & 0 \\\\\n",
    "0 & -k & 2 k & -k & 0 \\\\\n",
    "0 & 0 & -k & 2 k & -k \\\\\n",
    "0 & 0 & 0 & -k & k\n",
    "\\end{array}\\right]\\left\\{\\begin{array}{l}\n",
    "10 \\\\\n",
    "u_{2} \\\\\n",
    "u_{3} \\\\\n",
    "u_{4} \\\\\n",
    "\\delta\n",
    "\\end{array}\\right\\}\\right.\n",
    "$$\n",
    "\n",
    "$$\n",
    "\\begin{array}{l}\n",
    "F_{1 x}=-k u_{2} \\\\\n",
    "0=2 k u_{2}-k u_{3} \\\\\n",
    "0=-k u_{2}+2 k u_{3}-k u_{4} \\\\\n",
    "0=-k u_{3}+2 k u_{4}-k \\delta \\\\\n",
    "F_{5 x}=-k u_{4}+k \\delta\n",
    "\\end{array}\n",
    "$$\n",
    "\n",
    "$$\n",
    "\\begin{array}{l}\n",
    "u_{2}=\\frac{1}{2} u_{3} \\\\\n",
    "x_{4}=\\frac{u_{3}+\\delta}{2} \\\\\n",
    "-\\frac{1}{2} u_{2}+2 u_{3}-\\frac{8}{2}-\\frac{u_{3}}{2}=0 . \\\\\n",
    "u_{3}=\\frac{8}{2} \\\\\n",
    "u_{4}=\\frac{3}{4} \\delta \\\\\n",
    "u_{2}=\\frac{8}{4}\n",
    "\\end{array}\n",
    "$$"
   ]
  },
  {
   "cell_type": "code",
   "execution_count": null,
   "metadata": {},
   "outputs": [],
   "source": []
  }
 ],
 "metadata": {
  "kernelspec": {
   "display_name": "Python 3",
   "language": "python",
   "name": "python3"
  },
  "language_info": {
   "codemirror_mode": {
    "name": "ipython",
    "version": 3
   },
   "file_extension": ".py",
   "mimetype": "text/x-python",
   "name": "python",
   "nbconvert_exporter": "python",
   "pygments_lexer": "ipython3",
   "version": "3.7.9"
  }
 },
 "nbformat": 4,
 "nbformat_minor": 4
}
