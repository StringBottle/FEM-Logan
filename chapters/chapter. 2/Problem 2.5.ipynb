{
 "cells": [
  {
   "cell_type": "markdown",
   "metadata": {},
   "source": [
    "For the spring assemblage shown in Figure P2-5, obtain the global stiffness matrix by the direct stiffness method. Let $k^{(1)} =200 N/mm$, $k^{(2)} =400 N/mm$, $k^{(3)} =600 N/mm$, $k^{(4)} = 800 N/mm$, and $k^{(5)} =1000 N/mm$"
   ]
  },
  {
   "cell_type": "markdown",
   "metadata": {},
   "source": [
    "Local equation at each node is defined as below. \n",
    "\n",
    "$$\\begin{Bmatrix}\n",
    "F_{1}\\\\\n",
    "F_{2}\n",
    "\\end{Bmatrix}\n",
    "=  \\begin{bmatrix}\n",
    "k_{1} & -k_{1} \\\\ \n",
    "-k_{1} & k_{1}\n",
    "\\end{bmatrix}\n",
    "\\begin{Bmatrix}\n",
    "u_{1}\\\\\n",
    "u_{2}\n",
    "\\end{Bmatrix}\n",
    "$$\n",
    "\n",
    "$$\\begin{Bmatrix}\n",
    "F_{2}\\\\\n",
    "F_{4}\n",
    "\\end{Bmatrix}\n",
    "=  \\begin{bmatrix}\n",
    "K & - K \\\\ \n",
    "-K & K\n",
    "\\end{bmatrix}\n",
    "\\begin{Bmatrix}\n",
    "u_{2}\\\\\n",
    "u_{4}\n",
    "\\end{Bmatrix}\n",
    "$$\n",
    "\n",
    "$$\\begin{Bmatrix}\n",
    "F_{4}\\\\\n",
    "F_{3}\n",
    "\\end{Bmatrix}\n",
    "=  \\begin{bmatrix}\n",
    "k_{5} & -k_{5} \\\\ \n",
    "-k_{5} & k_{5}\n",
    "\\end{bmatrix}\n",
    "\\begin{Bmatrix}\n",
    "u_{4}\\\\\n",
    "u_{3}\n",
    "\\end{Bmatrix}\n",
    "$$\n",
    "\n",
    "where $K = k_{2}+k_{3}+k_{4}$\n",
    "\n",
    "By assembling local equations we get global equation as \n",
    "\n",
    "$$\\begin{Bmatrix}\n",
    "F_{1}\\\\\n",
    "F_{2}\\\\\n",
    "F_{3}\\\\\n",
    "F_{4}\n",
    "\\end{Bmatrix}\n",
    "=  \\begin{bmatrix}\n",
    "k_{1} & -k_{1} & 0 & 0 \\\\ \n",
    "-k_{1} & k_{1}+K & 0 & -K \\\\\n",
    "0 & 0 & -k_{5} & k_{5} \\\\\n",
    "0 & -K & k_{5} & -k_{5}+ K \\\\\n",
    "\\end{bmatrix}\n",
    "\\begin{Bmatrix}\n",
    "u_{1}\\\\\n",
    "u_{2}\\\\\n",
    "u_{3}\\\\\n",
    "u_{4}\\\\\n",
    "\\end{Bmatrix}\n",
    "$$\n",
    "\n",
    "Substitute the stiffness values to get global stiffness equation. \n",
    "\n",
    "$$\n",
    "\\begin{bmatrix}\n",
    "200 & -200 & 0 & 0 \\\\ \n",
    "-200 & 2000 & 0 & - 1800 \\\\\n",
    "0 & 0 & 1000 & -1000 \\\\\n",
    "0 & - 1800 & -1000 & 2800 \\\\\n",
    "\\end{bmatrix}\n",
    "$$\n"
   ]
  },
  {
   "cell_type": "code",
   "execution_count": null,
   "metadata": {
    "collapsed": true
   },
   "outputs": [],
   "source": []
  }
 ],
 "metadata": {
  "kernelspec": {
   "display_name": "Python 3",
   "language": "python",
   "name": "python3"
  },
  "language_info": {
   "codemirror_mode": {
    "name": "ipython",
    "version": 3
   },
   "file_extension": ".py",
   "mimetype": "text/x-python",
   "name": "python",
   "nbconvert_exporter": "python",
   "pygments_lexer": "ipython3",
   "version": "3.7.9"
  }
 },
 "nbformat": 4,
 "nbformat_minor": 4
}
